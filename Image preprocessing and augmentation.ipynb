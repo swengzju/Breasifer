{
 "cells": [
  {
   "cell_type": "markdown",
   "metadata": {},
   "source": [
    "#### READ ME:\n",
    "\n",
    "This program prepares the images for modeling.\n",
    "\n",
    "Please organize the images as follows:\n",
    "\n",
    "    - create a 'train_folder_origin' and a 'test_folder_origin' for storing your original training and testing images\n",
    "    - create a 'train_folder' and a 'test_folder' for storing your processed training and testing images that will be used for modeling\n",
    "    - inside each of the above 4 folders, create a 'benign' folder to store the benign images, and a 'malignant' folder to store the malignant images\n",
    "    \n",
    "After that, uncomment each of the 4 input/output pairs in the second cell and run the whole program. You will need to run four times."
   ]
  },
  {
   "cell_type": "code",
   "execution_count": 5,
   "metadata": {
    "collapsed": true
   },
   "outputs": [],
   "source": [
    "import os\n",
    "from random import random\n",
    "from skimage import io\n",
    "from skimage.transform import rotate, downscale_local_mean, resize\n",
    "import matplotlib.image as image"
   ]
  },
  {
   "cell_type": "code",
   "execution_count": 6,
   "metadata": {
    "collapsed": true
   },
   "outputs": [],
   "source": [
    "# uncomment each of the following 4 input/output pairs and run the whole program\n",
    "\n",
    "input_folder = '/Users/shengweng/Desktop/train_folder_origin/benign'\n",
    "output_folder = '/Users/shengweng/Desktop/train_folder/benign'\n",
    "\n",
    "#input_folder = '/Users/shengweng/Desktop/train_folder_origin/malignant'\n",
    "#output_folder = '/Users/shengweng/Desktop/train_folder/malignant'\n",
    "\n",
    "#input_folder = '/Users/shengweng/Desktop/test_folder_origin/benign'\n",
    "#output_folder = '/Users/shengweng/Desktop/test_folder/benign'\n",
    "\n",
    "#input_folder = '/Users/shengweng/Desktop/test_folder_origin/malignant'\n",
    "#output_folder = '/Users/shengweng/Desktop/test_folder/malignant'"
   ]
  },
  {
   "cell_type": "code",
   "execution_count": 7,
   "metadata": {
    "collapsed": false
   },
   "outputs": [],
   "source": [
    "# read the images in the input_folder\n",
    "# images should be JPEG format\n",
    "path_pattern = os.path.join(input_folder, \"*.jpg\")\n",
    "ic = io.ImageCollection(path_pattern)"
   ]
  },
  {
   "cell_type": "code",
   "execution_count": 8,
   "metadata": {
    "collapsed": false
   },
   "outputs": [],
   "source": [
    "# main part\n",
    "i = 0\n",
    "for img in ic:\n",
    "    \n",
    "    # create 12 random angles\n",
    "    angles = [random()*20-10 for j in range(12)]\n",
    "    \n",
    "    for ang in angles:\n",
    "        \n",
    "        # resize the image to 300 x 300\n",
    "        img_res = resize(img, (300, 300))\n",
    "        \n",
    "        # rotate the original image a random degree (-10.0, 10.0) to generate a new image\n",
    "        img_rotate = rotate(img_res, ang)\n",
    "        \n",
    "        # crop the image to 200 x 200\n",
    "        img_crop = img_rotate[50:250, 50:250]\n",
    "        \n",
    "        # downsample the image five times to 40 x 40\n",
    "        img_down = downscale_local_mean(img_crop, (5, 5, 1))\n",
    "        \n",
    "        # save the image to the output_folder\n",
    "        image.imsave(os.path.join(output_folder, \"image_{0}.jpg\".format(i)), img_down, cmap = 'gray')\n",
    "        i += 1"
   ]
  }
 ],
 "metadata": {
  "kernelspec": {
   "display_name": "Python 2",
   "language": "python",
   "name": "python2"
  },
  "language_info": {
   "codemirror_mode": {
    "name": "ipython",
    "version": 2
   },
   "file_extension": ".py",
   "mimetype": "text/x-python",
   "name": "python",
   "nbconvert_exporter": "python",
   "pygments_lexer": "ipython2",
   "version": "2.7.12"
  }
 },
 "nbformat": 4,
 "nbformat_minor": 0
}

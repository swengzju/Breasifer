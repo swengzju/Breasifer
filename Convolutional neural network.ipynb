{
 "cells": [
  {
   "cell_type": "code",
   "execution_count": 9,
   "metadata": {
    "collapsed": true
   },
   "outputs": [],
   "source": [
    "import numpy as np\n",
    "import tensorflow as tf\n",
    "from six.moves import cPickle as pickle"
   ]
  },
  {
   "cell_type": "code",
   "execution_count": 10,
   "metadata": {
    "collapsed": false
   },
   "outputs": [
    {
     "name": "stdout",
     "output_type": "stream",
     "text": [
      "('Training set', (17280, 40, 40), (17280,))\n",
      "('Validation set', (2880, 40, 40), (2880,))\n",
      "('Test set', (2880, 40, 40), (2880,))\n"
     ]
    }
   ],
   "source": [
    "# import the pickle file that contains training, validating, and testing dataset\n",
    "pickle_file = 'breast.pickle'\n",
    "\n",
    "with open(pickle_file, 'rb') as f:\n",
    "    save = pickle.load(f)\n",
    "    train_dataset = save['train_dataset']\n",
    "    train_labels = save['train_labels']\n",
    "    valid_dataset = save['valid_dataset']\n",
    "    valid_labels = save['valid_labels']\n",
    "    test_dataset = save['test_dataset']\n",
    "    test_labels = save['test_labels']\n",
    "    del save\n",
    "    print('Training set', train_dataset.shape, train_labels.shape)\n",
    "    print('Validation set', valid_dataset.shape, valid_labels.shape)\n",
    "    print('Test set', test_dataset.shape, test_labels.shape)"
   ]
  },
  {
   "cell_type": "code",
   "execution_count": 11,
   "metadata": {
    "collapsed": false
   },
   "outputs": [
    {
     "name": "stdout",
     "output_type": "stream",
     "text": [
      "('Training set', (17280, 40, 40, 1), (17280, 2))\n",
      "('Validation set', (2880, 40, 40, 1), (2880, 2))\n",
      "('Test set', (2880, 40, 40, 1), (2880, 2))\n"
     ]
    }
   ],
   "source": [
    "# reformat the data to have the correct dimension\n",
    "height = 40\n",
    "width = 40\n",
    "num_labels = 2\n",
    "num_channels = 1 # grayscale\n",
    "\n",
    "def reformat(dataset, labels):\n",
    "    dataset = dataset.reshape((-1, width, height, num_channels)).astype(np.float32)\n",
    "    labels = (np.arange(num_labels) == labels[:,None]).astype(np.float32)\n",
    "    return dataset, labels\n",
    "train_dataset, train_labels = reformat(train_dataset, train_labels)\n",
    "valid_dataset, valid_labels = reformat(valid_dataset, valid_labels)\n",
    "test_dataset, test_labels = reformat(test_dataset, test_labels)\n",
    "print('Training set', train_dataset.shape, train_labels.shape)\n",
    "print('Validation set', valid_dataset.shape, valid_labels.shape)\n",
    "print('Test set', test_dataset.shape, test_labels.shape)"
   ]
  },
  {
   "cell_type": "code",
   "execution_count": 12,
   "metadata": {
    "collapsed": true
   },
   "outputs": [],
   "source": [
    "# calculate the accuracy of prediction as compared to the true labels\n",
    "def accuracy(predictions, labels):\n",
    "    return (100.0 * np.sum(np.argmax(predictions, 1) == np.argmax(labels, 1)) / predictions.shape[0])"
   ]
  },
  {
   "cell_type": "code",
   "execution_count": 13,
   "metadata": {
    "collapsed": true
   },
   "outputs": [],
   "source": [
    "# generate the confusion matrix, and calculate the prediction probability\n",
    "# returns a list of tuples, each tuple has the format: (true label, model prediction, prediction probability)\n",
    "# labels = 0 means benign, corresponds to (1, 0) in the output\n",
    "# labels = 1 means malignant, corresponds to (0, 1) in the output\n",
    "# threshold for classification is 0.5, meaning if the predicted value is bigger than 0.5, \n",
    "#     it's classified as malignant; if the predicted value is smaller than 0.5, it's classified as benign. \n",
    "def confusion(predictions, labels):   \n",
    "    TP = 0\n",
    "    TN = 0\n",
    "    FP = 0\n",
    "    FN = 0\n",
    "    prob_list = []\n",
    "    prob = 0\n",
    "    for i in range(len(labels)):\n",
    "        if labels[i][1] > labels[i][0] and predictions[i][1] > predictions[i][0]: \n",
    "            TP += 1\n",
    "            prob = (1, 1, predictions[i][1] / (predictions[i][1] + predictions[i][0]))\n",
    "        elif labels[i][1] < labels[i][0] and predictions[i][1] < predictions[i][0]: \n",
    "            TN += 1\n",
    "            prob = (0, 0, predictions[i][0] / (predictions[i][1] + predictions[i][0]))\n",
    "        elif labels[i][1] < labels[i][0] and predictions[i][1] > predictions[i][0]: \n",
    "            FP += 1\n",
    "            prob = (0, 1, predictions[i][1] / (predictions[i][1] + predictions[i][0]))\n",
    "        elif labels[i][1] > labels[i][0] and predictions[i][1] < predictions[i][0]: \n",
    "            FN += 1\n",
    "            prob = (1, 0, predictions[i][0] / (predictions[i][1] + predictions[i][0]))\n",
    "        prob_list.append(prob)\n",
    "    print('TP, TN, FP, FN: (%d, %d, %d, %d)' %(TP, TN, FP, FN))\n",
    "    print('sensitivity: {:.1%}'.format(TP/float(TP+FN)))\n",
    "    print('specificity: {:.1%}'.format(TN/float(TN+FP)))\n",
    "    print('precision: {:.1%}'.format(TP/float(TP+FP)))\n",
    "    print('F1 score: {:.1%}'.format(2*TP/float(TP+FP)*TP/float(TP+FN) / (TP/float(TP+FP)+TP/float(TP+FN))))\n",
    "    return prob_list"
   ]
  },
  {
   "cell_type": "code",
   "execution_count": 14,
   "metadata": {
    "collapsed": false
   },
   "outputs": [],
   "source": [
    "# build the tensorflow graph\n",
    "image_size = 40\n",
    "batch_size = 512\n",
    "patch_size = 5\n",
    "depth = 32\n",
    "depth2 = 64\n",
    "depth3 = 64\n",
    "num_hidden = 512\n",
    "num_hidden2 = 256\n",
    "keep_prob = 0.7\n",
    "\n",
    "graph = tf.Graph()\n",
    "\n",
    "with graph.as_default():\n",
    "\n",
    "    # Input data.\n",
    "    tf_train_dataset = tf.placeholder(tf.float32, shape=(batch_size, image_size, image_size, num_channels))\n",
    "    tf_train_labels = tf.placeholder(tf.float32, shape=(batch_size, num_labels))\n",
    "    tf_valid_dataset = tf.constant(valid_dataset)\n",
    "    tf_test_dataset = tf.constant(test_dataset)\n",
    "    global_step = tf.Variable(0)\n",
    "  \n",
    "    # Variables.\n",
    "    layer1_weights = tf.Variable(tf.truncated_normal(\n",
    "      [patch_size, patch_size, num_channels, depth], stddev=0.1))\n",
    "    layer1_biases = tf.Variable(tf.constant(0.1, shape=[depth]))\n",
    "    layer2_weights = tf.Variable(tf.truncated_normal(\n",
    "      [patch_size, patch_size, depth, depth2], stddev=0.1))\n",
    "    layer2_biases = tf.Variable(tf.constant(0.1, shape=[depth2]))\n",
    "    layer3_weights = tf.Variable(tf.truncated_normal(\n",
    "      [patch_size, patch_size, depth2, depth3], stddev=0.1))\n",
    "    layer3_biases = tf.Variable(tf.constant(0.1, shape=[depth3]))   \n",
    "    layer4_weights = tf.Variable(tf.truncated_normal(\n",
    "      [image_size // 8 * image_size // 8 * depth3, num_hidden], stddev=0.1))\n",
    "    layer4_biases = tf.Variable(tf.constant(0.1, shape=[num_hidden]))\n",
    "    layer5_weights = tf.Variable(tf.truncated_normal(\n",
    "      [num_hidden, num_hidden2], stddev=0.1))\n",
    "    layer5_biases = tf.Variable(tf.constant(0.1, shape=[num_hidden2]))\n",
    "    layer6_weights = tf.Variable(tf.truncated_normal(\n",
    "      [num_hidden2, num_labels], stddev=0.1))\n",
    "    layer6_biases = tf.Variable(tf.constant(0.1, shape=[num_labels]))\n",
    "  \n",
    "    # Model.\n",
    "    def model(data):\n",
    "        conv1 = tf.nn.conv2d(data, layer1_weights, [1, 1, 1, 1], padding='SAME')\n",
    "        bias1 = tf.nn.relu(conv1 + layer1_biases)\n",
    "        pool1 = tf.nn.max_pool(bias1, [1, 2, 2, 1], [1, 2, 2, 1], padding='SAME')\n",
    "        conv2 = tf.nn.conv2d(pool1, layer2_weights, [1, 1, 1, 1], padding='SAME')\n",
    "        bias2 = tf.nn.relu(conv2 + layer2_biases)\n",
    "        pool2 = tf.nn.max_pool(bias2, [1, 2, 2, 1], [1, 2, 2, 1], padding='SAME')\n",
    "        conv3 = tf.nn.conv2d(pool2, layer3_weights, [1, 1, 1, 1], padding='SAME')\n",
    "        bias3 = tf.nn.relu(conv3 + layer3_biases)\n",
    "        pool3 = tf.nn.max_pool(bias3, [1, 2, 2, 1], [1, 2, 2, 1], padding='SAME')\n",
    "        shape = pool3.get_shape().as_list()\n",
    "        reshape = tf.reshape(pool3, [shape[0], shape[1] * shape[2] * shape[3]])\n",
    "        hidden = tf.nn.relu(tf.matmul(reshape, layer4_weights) + layer4_biases)\n",
    "        hidden2 = tf.nn.relu(tf.matmul(hidden, layer5_weights) + layer5_biases)\n",
    "        drop3 = tf.nn.dropout(hidden2, keep_prob)\n",
    "        return tf.matmul(drop3, layer6_weights) + layer6_biases\n",
    "  \n",
    "    # Training computation.\n",
    "    logits = model(tf_train_dataset)\n",
    "    loss = tf.reduce_mean(tf.nn.softmax_cross_entropy_with_logits(logits, tf_train_labels))\n",
    "    \n",
    "    # Optimizer.\n",
    "    learning_rate = tf.train.exponential_decay(0.01, global_step, 1000, 0.85, staircase=True)\n",
    "    optimizer = tf.train.GradientDescentOptimizer(learning_rate).minimize(loss, global_step=global_step)\n",
    "\n",
    "    # Predictions for the training, validation, and test data.\n",
    "    train_prediction = tf.nn.softmax(logits)\n",
    "    valid_prediction = tf.nn.softmax(model(tf_valid_dataset))\n",
    "    test_prediction = tf.nn.softmax(model(tf_test_dataset))"
   ]
  },
  {
   "cell_type": "code",
   "execution_count": 15,
   "metadata": {
    "collapsed": false
   },
   "outputs": [
    {
     "name": "stdout",
     "output_type": "stream",
     "text": [
      "WARNING:tensorflow:From <ipython-input-15-c151d258a83b>:7 in <module>.: initialize_all_variables (from tensorflow.python.ops.variables) is deprecated and will be removed after 2017-03-02.\n",
      "Instructions for updating:\n",
      "Use `tf.global_variables_initializer` instead.\n",
      "Initialized\n",
      "Minibatch loss at step 0: 2.455675\n",
      "Minibatch accuracy: 46.9%\n",
      "Validation accuracy: 50.0%\n",
      "Minibatch loss at step 1000: 0.485365\n",
      "Minibatch accuracy: 75.6%\n",
      "Validation accuracy: 76.5%\n",
      "Minibatch loss at step 2000: 0.309335\n",
      "Minibatch accuracy: 88.7%\n",
      "Validation accuracy: 86.2%\n",
      "Minibatch loss at step 3000: 0.167716\n",
      "Minibatch accuracy: 94.5%\n",
      "Validation accuracy: 91.3%\n",
      "Minibatch loss at step 4000: 0.147194\n",
      "Minibatch accuracy: 95.3%\n",
      "Validation accuracy: 93.3%\n",
      "Minibatch loss at step 5000: 0.065614\n",
      "Minibatch accuracy: 98.4%\n",
      "Validation accuracy: 95.5%\n",
      "Minibatch loss at step 6000: 0.059642\n",
      "Minibatch accuracy: 98.0%\n",
      "Validation accuracy: 96.5%\n",
      "Minibatch loss at step 7000: 0.044985\n",
      "Minibatch accuracy: 97.9%\n",
      "Validation accuracy: 97.3%\n",
      "Minibatch loss at step 8000: 0.036545\n",
      "Minibatch accuracy: 99.0%\n",
      "Validation accuracy: 98.1%\n",
      "Minibatch loss at step 9000: 0.031455\n",
      "Minibatch accuracy: 99.4%\n",
      "Validation accuracy: 98.4%\n",
      "Minibatch loss at step 10000: 0.030725\n",
      "Minibatch accuracy: 99.4%\n",
      "Validation accuracy: 98.4%\n",
      "Minibatch loss at step 11000: 0.021346\n",
      "Minibatch accuracy: 99.8%\n",
      "Validation accuracy: 98.3%\n",
      "Minibatch loss at step 12000: 0.025204\n",
      "Minibatch accuracy: 99.4%\n",
      "Validation accuracy: 98.1%\n",
      "Minibatch loss at step 13000: 0.018216\n",
      "Minibatch accuracy: 99.4%\n",
      "Validation accuracy: 98.4%\n",
      "Minibatch loss at step 14000: 0.024183\n",
      "Minibatch accuracy: 99.2%\n",
      "Validation accuracy: 98.3%\n",
      "Minibatch loss at step 15000: 0.017355\n",
      "Minibatch accuracy: 99.6%\n",
      "Validation accuracy: 98.5%\n",
      "Minibatch loss at step 16000: 0.017611\n",
      "Minibatch accuracy: 99.6%\n",
      "Validation accuracy: 98.5%\n",
      "Minibatch loss at step 17000: 0.020019\n",
      "Minibatch accuracy: 99.6%\n",
      "Validation accuracy: 98.7%\n",
      "Minibatch loss at step 18000: 0.023719\n",
      "Minibatch accuracy: 99.4%\n",
      "Validation accuracy: 98.3%\n",
      "Minibatch loss at step 19000: 0.012385\n",
      "Minibatch accuracy: 100.0%\n",
      "Validation accuracy: 98.5%\n",
      "Minibatch loss at step 20000: 0.016067\n",
      "Minibatch accuracy: 100.0%\n",
      "Validation accuracy: 99.0%\n",
      "Test accuracy: 72.7%\n",
      "TP, TN, FP, FN: (939, 1093, 347, 501)\n",
      "sensitivity: 65.2%\n",
      "specificity: 75.9%\n",
      "precision: 73.0%\n",
      "F1 score: 68.9%\n"
     ]
    }
   ],
   "source": [
    "# first iteratively train the model\n",
    "# then calculate the prediction accuracy on the test set using the trained model\n",
    "# and generate the confusion matrix\n",
    "num_steps = 20001\n",
    "\n",
    "with tf.Session(graph=graph) as session:\n",
    "    tf.initialize_all_variables().run()\n",
    "    print('Initialized')\n",
    "    for step in range(num_steps):\n",
    "        offset = (step * batch_size) % (train_labels.shape[0] - batch_size)\n",
    "        batch_data = train_dataset[offset:(offset + batch_size), :, :, :]\n",
    "        batch_labels = train_labels[offset:(offset + batch_size), :]\n",
    "        feed_dict = {tf_train_dataset : batch_data, tf_train_labels : batch_labels}\n",
    "        _, l, predictions = session.run(\n",
    "          [optimizer, loss, train_prediction], feed_dict=feed_dict)\n",
    "        if (step % 1000 == 0):\n",
    "            print('Minibatch loss at step %d: %f' % (step, l))\n",
    "            print('Minibatch accuracy: %.1f%%' % accuracy(predictions, batch_labels))\n",
    "            print('Validation accuracy: %.1f%%' % accuracy(valid_prediction.eval(), valid_labels))\n",
    "    print('Test accuracy: %.1f%%' % accuracy(test_prediction.eval(), test_labels))\n",
    "    prob = confusion(test_prediction.eval(), test_labels)"
   ]
  },
  {
   "cell_type": "code",
   "execution_count": 16,
   "metadata": {
    "collapsed": false
   },
   "outputs": [
    {
     "name": "stdout",
     "output_type": "stream",
     "text": [
      "[(0, 1, 0.59565789), (0, 0, 0.9723103), (0, 0, 1.0), (1, 1, 0.98488754), (1, 1, 0.99974436), (0, 0, 0.99924242), (1, 1, 0.93535197), (1, 1, 0.64920932), (0, 0, 0.99983823), (0, 0, 0.99837619)]\n"
     ]
    }
   ],
   "source": [
    "# print the first 10 predictions with the corresponding probabilities.\n",
    "# each tuple has the format: (true label, model prediction, prediction probability)\n",
    "print(prob[:10])"
   ]
  }
 ],
 "metadata": {
  "kernelspec": {
   "display_name": "Python 2",
   "language": "python",
   "name": "python2"
  },
  "language_info": {
   "codemirror_mode": {
    "name": "ipython",
    "version": 2
   },
   "file_extension": ".py",
   "mimetype": "text/x-python",
   "name": "python",
   "nbconvert_exporter": "python",
   "pygments_lexer": "ipython2",
   "version": "2.7.13"
  }
 },
 "nbformat": 4,
 "nbformat_minor": 0
}

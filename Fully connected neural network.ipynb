{
 "cells": [
  {
   "cell_type": "code",
   "execution_count": 1,
   "metadata": {
    "collapsed": true
   },
   "outputs": [],
   "source": [
    "import numpy as np\n",
    "import tensorflow as tf\n",
    "from six.moves import cPickle as pickle"
   ]
  },
  {
   "cell_type": "code",
   "execution_count": 2,
   "metadata": {
    "collapsed": false
   },
   "outputs": [
    {
     "name": "stdout",
     "output_type": "stream",
     "text": [
      "('Training set', (17280, 40, 40), (17280,))\n",
      "('Validation set', (2880, 40, 40), (2880,))\n",
      "('Test set', (2880, 40, 40), (2880,))\n"
     ]
    }
   ],
   "source": [
    "# import the pickle file that contains training, validating, and testing dataset\n",
    "pickle_file = 'breast.pickle'\n",
    "\n",
    "with open(pickle_file, 'rb') as f:\n",
    "    save = pickle.load(f)\n",
    "    train_dataset = save['train_dataset']\n",
    "    train_labels = save['train_labels']\n",
    "    valid_dataset = save['valid_dataset']\n",
    "    valid_labels = save['valid_labels']\n",
    "    test_dataset = save['test_dataset']\n",
    "    test_labels = save['test_labels']\n",
    "    del save\n",
    "    print('Training set', train_dataset.shape, train_labels.shape)\n",
    "    print('Validation set', valid_dataset.shape, valid_labels.shape)\n",
    "    print('Test set', test_dataset.shape, test_labels.shape)"
   ]
  },
  {
   "cell_type": "code",
   "execution_count": 3,
   "metadata": {
    "collapsed": false
   },
   "outputs": [
    {
     "name": "stdout",
     "output_type": "stream",
     "text": [
      "('Training set', (17280, 1600), (17280, 2))\n",
      "('Validation set', (2880, 1600), (2880, 2))\n",
      "('Test set', (2880, 1600), (2880, 2))\n"
     ]
    }
   ],
   "source": [
    "# reformat the data to have the correct dimension\n",
    "num_labels = 2\n",
    "image_size = 40\n",
    "\n",
    "def reformat(dataset, labels):\n",
    "    dataset = dataset.reshape((-1, image_size * image_size)).astype(np.float32)\n",
    "    labels = (np.arange(num_labels) == labels[:,None]).astype(np.float32)\n",
    "    return dataset, labels\n",
    "train_dataset, train_labels = reformat(train_dataset, train_labels)\n",
    "valid_dataset, valid_labels = reformat(valid_dataset, valid_labels)\n",
    "test_dataset, test_labels = reformat(test_dataset, test_labels)\n",
    "print('Training set', train_dataset.shape, train_labels.shape)\n",
    "print('Validation set', valid_dataset.shape, valid_labels.shape)\n",
    "print('Test set', test_dataset.shape, test_labels.shape)"
   ]
  },
  {
   "cell_type": "code",
   "execution_count": 4,
   "metadata": {
    "collapsed": true
   },
   "outputs": [],
   "source": [
    "# calculate the accuracy of prediction as compared to the true labels\n",
    "def accuracy(predictions, labels):\n",
    "    return (100.0 * np.sum(np.argmax(predictions, 1) == np.argmax(labels, 1))\n",
    "          / predictions.shape[0])"
   ]
  },
  {
   "cell_type": "code",
   "execution_count": 5,
   "metadata": {
    "collapsed": true
   },
   "outputs": [],
   "source": [
    "# generate the confusion matrix, and calculate the prediction probability\n",
    "# returns a list of tuples, each tuple has the format: (true label, model prediction, prediction probability)\n",
    "# labels = 0 means benign, corresponds to (1, 0) in the output\n",
    "# labels = 1 means malignant, corresponds to (0, 1) in the output\n",
    "# threshold for classification is 0.5, meaning if the predicted value is bigger than 0.5, it's classified as malignant; if the predicted value is smaller than 0.5, it's classified as benign.  \n",
    "def confusion(predictions, labels):   \n",
    "    TP = 0\n",
    "    TN = 0\n",
    "    FP = 0\n",
    "    FN = 0\n",
    "    prob_list = []\n",
    "    prob = 0\n",
    "    for i in range(len(labels)):\n",
    "        if labels[i][1] > labels[i][0] and predictions[i][1] > predictions[i][0]: \n",
    "            TP += 1\n",
    "            prob = (1, 1, predictions[i][1] / (predictions[i][1] + predictions[i][0]))\n",
    "        elif labels[i][1] < labels[i][0] and predictions[i][1] < predictions[i][0]: \n",
    "            TN += 1\n",
    "            prob = (0, 0, predictions[i][0] / (predictions[i][1] + predictions[i][0]))\n",
    "        elif labels[i][1] < labels[i][0] and predictions[i][1] > predictions[i][0]: \n",
    "            FP += 1\n",
    "            prob = (0, 1, predictions[i][1] / (predictions[i][1] + predictions[i][0]))\n",
    "        elif labels[i][1] > labels[i][0] and predictions[i][1] < predictions[i][0]: \n",
    "            FN += 1\n",
    "            prob = (1, 0, predictions[i][0] / (predictions[i][1] + predictions[i][0]))\n",
    "        prob_list.append(prob)\n",
    "    print('TP, TN, FP, FN: (%d, %d, %d, %d)' %(TP, TN, FP, FN))\n",
    "    print('sensitivity: {:.1%}'.format(TP/float(TP+FN)))\n",
    "    print('specificity: {:.1%}'.format(TN/float(TN+FP)))\n",
    "    print('precision: {:.1%}'.format(TP/float(TP+FP)))\n",
    "    print('F1 score: {:.1%}'.format(2*TP/float(TP+FP)*TP/float(TP+FN) / (TP/float(TP+FP)+TP/float(TP+FN))))\n",
    "    return prob_list"
   ]
  },
  {
   "cell_type": "code",
   "execution_count": 6,
   "metadata": {
    "collapsed": false
   },
   "outputs": [],
   "source": [
    "# build the tensorflow graph\n",
    "batch_size = 64\n",
    "num_hidden_nodes1 = 512\n",
    "num_hidden_nodes2 = 256\n",
    "num_hidden_nodes3 = 128\n",
    "keep_prob = 0.5\n",
    "\n",
    "graph = tf.Graph()\n",
    "with graph.as_default():\n",
    "\n",
    "    # Input data.\n",
    "    tf_train_dataset = tf.placeholder(tf.float32,\n",
    "                                    shape=(batch_size, image_size * image_size))\n",
    "    tf_train_labels = tf.placeholder(tf.float32, shape=(batch_size, num_labels))\n",
    "    tf_valid_dataset = tf.constant(valid_dataset)\n",
    "    tf_test_dataset = tf.constant(test_dataset)\n",
    "    global_step = tf.Variable(0)\n",
    "\n",
    "    # Variables.\n",
    "    weights1 = tf.Variable(\n",
    "    tf.truncated_normal(\n",
    "        [image_size * image_size, num_hidden_nodes1],\n",
    "        stddev=np.sqrt(2.0 / (image_size * image_size))))\n",
    "    biases1 = tf.Variable(tf.zeros([num_hidden_nodes1]))\n",
    "    weights2 = tf.Variable(\n",
    "    tf.truncated_normal([num_hidden_nodes1, num_hidden_nodes2], stddev=np.sqrt(2.0 / num_hidden_nodes1)))\n",
    "    biases2 = tf.Variable(tf.zeros([num_hidden_nodes2]))\n",
    "    weights3 = tf.Variable(\n",
    "    tf.truncated_normal([num_hidden_nodes2, num_hidden_nodes3], stddev=np.sqrt(2.0 / num_hidden_nodes2)))\n",
    "    biases3 = tf.Variable(tf.zeros([num_hidden_nodes3]))\n",
    "    weights4 = tf.Variable(\n",
    "    tf.truncated_normal([num_hidden_nodes3, num_labels], stddev=np.sqrt(2.0 / num_hidden_nodes3)))\n",
    "    biases4 = tf.Variable(tf.zeros([num_labels]))\n",
    "  \n",
    "    # Training computation.\n",
    "    lay1_train = tf.nn.relu(tf.matmul(tf_train_dataset, weights1) + biases1)\n",
    "    drop1 = tf.nn.dropout(lay1_train, keep_prob)\n",
    "    lay2_train = tf.nn.relu(tf.matmul(drop1, weights2) + biases2)\n",
    "    drop2 = tf.nn.dropout(lay2_train, keep_prob)\n",
    "    lay3_train = tf.nn.relu(tf.matmul(drop2, weights3) + biases3)\n",
    "    drop3 = tf.nn.dropout(lay3_train, keep_prob)\n",
    "    logits = tf.matmul(drop3, weights4) + biases4\n",
    "    loss = tf.reduce_mean(\n",
    "    tf.nn.softmax_cross_entropy_with_logits(logits, tf_train_labels))\n",
    "  \n",
    "    # Optimizer.\n",
    "    learning_rate = tf.train.exponential_decay(0.1, global_step, 10000, 0.96, staircase=True)\n",
    "    optimizer = tf.train.GradientDescentOptimizer(learning_rate).minimize(loss, global_step=global_step)\n",
    "\n",
    "    # Predictions for the training, validation, and test data.\n",
    "    train_prediction = tf.nn.softmax(logits)\n",
    "    lay1_valid = tf.nn.relu(tf.matmul(tf_valid_dataset, weights1) + biases1)\n",
    "    lay2_valid = tf.nn.relu(tf.matmul(lay1_valid, weights2) + biases2)\n",
    "    lay3_valid = tf.nn.relu(tf.matmul(lay2_valid, weights3) + biases3)\n",
    "    valid_prediction = tf.nn.softmax(tf.matmul(lay3_valid, weights4) + biases4)\n",
    "    lay1_test = tf.nn.relu(tf.matmul(tf_test_dataset, weights1) + biases1)\n",
    "    lay2_test = tf.nn.relu(tf.matmul(lay1_test, weights2) + biases2)\n",
    "    lay3_test = tf.nn.relu(tf.matmul(lay2_test, weights3) + biases3)\n",
    "    test_prediction = tf.nn.softmax(tf.matmul(lay3_test, weights4) + biases4)"
   ]
  },
  {
   "cell_type": "code",
   "execution_count": 7,
   "metadata": {
    "collapsed": false
   },
   "outputs": [
    {
     "name": "stdout",
     "output_type": "stream",
     "text": [
      "WARNING:tensorflow:From <ipython-input-7-acda8205cc71>:7 in <module>.: initialize_all_variables (from tensorflow.python.ops.variables) is deprecated and will be removed after 2017-03-02.\n",
      "Instructions for updating:\n",
      "Use `tf.global_variables_initializer` instead.\n",
      "Initialized\n",
      "Minibatch loss at step 0: 0.794202\n",
      "Minibatch accuracy: 45.3%\n",
      "Validation accuracy: 50.0%\n",
      "Minibatch loss at step 1000: 0.589566\n",
      "Minibatch accuracy: 68.8%\n",
      "Validation accuracy: 67.2%\n",
      "Minibatch loss at step 2000: 0.580320\n",
      "Minibatch accuracy: 73.4%\n",
      "Validation accuracy: 71.0%\n",
      "Minibatch loss at step 3000: 0.518380\n",
      "Minibatch accuracy: 79.7%\n",
      "Validation accuracy: 71.8%\n",
      "Minibatch loss at step 4000: 0.490529\n",
      "Minibatch accuracy: 76.6%\n",
      "Validation accuracy: 73.3%\n",
      "Minibatch loss at step 5000: 0.459865\n",
      "Minibatch accuracy: 76.6%\n",
      "Validation accuracy: 79.2%\n",
      "Minibatch loss at step 6000: 0.509324\n",
      "Minibatch accuracy: 68.8%\n",
      "Validation accuracy: 85.3%\n",
      "Minibatch loss at step 7000: 0.356538\n",
      "Minibatch accuracy: 79.7%\n",
      "Validation accuracy: 87.5%\n",
      "Minibatch loss at step 8000: 0.401502\n",
      "Minibatch accuracy: 81.2%\n",
      "Validation accuracy: 81.0%\n",
      "Minibatch loss at step 9000: 0.316557\n",
      "Minibatch accuracy: 84.4%\n",
      "Validation accuracy: 89.1%\n",
      "Minibatch loss at step 10000: 0.321654\n",
      "Minibatch accuracy: 85.9%\n",
      "Validation accuracy: 89.2%\n",
      "Minibatch loss at step 11000: 0.244307\n",
      "Minibatch accuracy: 90.6%\n",
      "Validation accuracy: 91.3%\n",
      "Minibatch loss at step 12000: 0.266606\n",
      "Minibatch accuracy: 87.5%\n",
      "Validation accuracy: 92.2%\n",
      "Minibatch loss at step 13000: 0.279364\n",
      "Minibatch accuracy: 89.1%\n",
      "Validation accuracy: 90.6%\n",
      "Minibatch loss at step 14000: 0.207585\n",
      "Minibatch accuracy: 84.4%\n",
      "Validation accuracy: 94.1%\n",
      "Minibatch loss at step 15000: 0.274742\n",
      "Minibatch accuracy: 84.4%\n",
      "Validation accuracy: 94.1%\n",
      "Minibatch loss at step 16000: 0.184934\n",
      "Minibatch accuracy: 92.2%\n",
      "Validation accuracy: 91.3%\n",
      "Minibatch loss at step 17000: 0.228388\n",
      "Minibatch accuracy: 89.1%\n",
      "Validation accuracy: 93.4%\n",
      "Minibatch loss at step 18000: 0.211387\n",
      "Minibatch accuracy: 89.1%\n",
      "Validation accuracy: 93.9%\n",
      "Minibatch loss at step 19000: 0.115192\n",
      "Minibatch accuracy: 95.3%\n",
      "Validation accuracy: 95.4%\n",
      "Minibatch loss at step 20000: 0.119632\n",
      "Minibatch accuracy: 93.8%\n",
      "Validation accuracy: 96.4%\n",
      "Test accuracy: 66.2%\n",
      "TP, TN, FP, FN: (911, 997, 443, 529)\n",
      "sensitivity: 63.3%\n",
      "specificity: 69.2%\n",
      "precision: 67.3%\n",
      "F1 score: 65.2%\n"
     ]
    }
   ],
   "source": [
    "# first iteratively train the model\n",
    "# then calculate the prediction accuracy on the test set using the trained model\n",
    "# and generate the confusion matrix\n",
    "num_steps = 20001\n",
    "\n",
    "with tf.Session(graph=graph) as session:\n",
    "    tf.initialize_all_variables().run()\n",
    "    print(\"Initialized\")\n",
    "    for step in range(num_steps):\n",
    "        # Pick an offset within the training data, which has been randomized.\n",
    "        offset = (step * batch_size) % (train_labels.shape[0] - batch_size)\n",
    "        # Generate a minibatch.\n",
    "        batch_data = train_dataset[offset:(offset + batch_size), :]\n",
    "        batch_labels = train_labels[offset:(offset + batch_size), :]\n",
    "        # Prepare a dictionary telling the session where to feed the minibatch.\n",
    "        # The key of the dictionary is the placeholder node of the graph to be fed,\n",
    "        # and the value is the numpy array to feed to it.\n",
    "        feed_dict = {tf_train_dataset : batch_data, tf_train_labels : batch_labels}\n",
    "        _, l, predictions = session.run(\n",
    "          [optimizer, loss, train_prediction], feed_dict=feed_dict)\n",
    "        if (step % 1000 == 0):\n",
    "            print(\"Minibatch loss at step %d: %f\" % (step, l))\n",
    "            print(\"Minibatch accuracy: %.1f%%\" % accuracy(predictions, batch_labels))\n",
    "            print(\"Validation accuracy: %.1f%%\" % accuracy(\n",
    "            valid_prediction.eval(), valid_labels))\n",
    "    print(\"Test accuracy: %.1f%%\" % accuracy(test_prediction.eval(), test_labels))\n",
    "    prob = confusion(test_prediction.eval(), test_labels)"
   ]
  },
  {
   "cell_type": "code",
   "execution_count": 8,
   "metadata": {
    "collapsed": false
   },
   "outputs": [
    {
     "name": "stdout",
     "output_type": "stream",
     "text": [
      "[(0, 1, 0.78742182), (0, 1, 0.78058207), (0, 0, 0.99999988), (1, 0, 0.70625418), (1, 1, 0.99889141), (0, 0, 0.99458873), (1, 0, 0.98656958), (1, 1, 0.99986279), (0, 1, 0.76437426), (0, 1, 0.58809316)]\n"
     ]
    }
   ],
   "source": [
    "# print the first 10 predictions with the corresponding probabilities.\n",
    "# each tuple has the format: (true label, model prediction, prediction probability)\n",
    "print(prob[:10])"
   ]
  }
 ],
 "metadata": {
  "kernelspec": {
   "display_name": "Python 2",
   "language": "python",
   "name": "python2"
  },
  "language_info": {
   "codemirror_mode": {
    "name": "ipython",
    "version": 2
   },
   "file_extension": ".py",
   "mimetype": "text/x-python",
   "name": "python",
   "nbconvert_exporter": "python",
   "pygments_lexer": "ipython2",
   "version": "2.7.13"
  }
 },
 "nbformat": 4,
 "nbformat_minor": 0
}
